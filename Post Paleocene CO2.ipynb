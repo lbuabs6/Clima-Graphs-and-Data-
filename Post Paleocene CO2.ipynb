{
 "cells": [
  {
   "cell_type": "code",
   "execution_count": 16,
   "id": "a35a3a19",
   "metadata": {},
   "outputs": [],
   "source": [
    "import numpy as np\n",
    "import matplotlib.pyplot as plt\n",
    "import xarray as xr\n",
    "from matplotlib.ticker import ScalarFormatter\n",
    "from matplotlib.animation import FuncAnimation\n",
    "import pandas as pd"
   ]
  },
  {
   "cell_type": "code",
   "execution_count": 17,
   "id": "8f085a10",
   "metadata": {},
   "outputs": [
    {
     "ename": "FileNotFoundError",
     "evalue": "[Errno 2] No such file or directory: '/Users/leoafriyie-buabeng/Desktop/Schneider Cut/age_co2_plot_data.xlsx'",
     "output_type": "error",
     "traceback": [
      "\u001b[0;31m---------------------------------------------------------------------------\u001b[0m",
      "\u001b[0;31mFileNotFoundError\u001b[0m                         Traceback (most recent call last)",
      "Cell \u001b[0;32mIn [17], line 5\u001b[0m\n\u001b[1;32m      2\u001b[0m excel_file_path \u001b[38;5;241m=\u001b[39m \u001b[38;5;124m'\u001b[39m\u001b[38;5;124m/Users/leoafriyie-buabeng/Desktop/Schneider Cut/age_co2_plot_data.xlsx\u001b[39m\u001b[38;5;124m'\u001b[39m\n\u001b[1;32m      4\u001b[0m \u001b[38;5;66;03m# Create an ExcelFile object\u001b[39;00m\n\u001b[0;32m----> 5\u001b[0m excel_file \u001b[38;5;241m=\u001b[39m \u001b[43mpd\u001b[49m\u001b[38;5;241;43m.\u001b[39;49m\u001b[43mExcelFile\u001b[49m\u001b[43m(\u001b[49m\u001b[43mexcel_file_path\u001b[49m\u001b[43m)\u001b[49m\n\u001b[1;32m      7\u001b[0m \u001b[38;5;66;03m# Read a sheet from the Excel file into a pandas DataFrame\u001b[39;00m\n\u001b[1;32m      8\u001b[0m data \u001b[38;5;241m=\u001b[39m pd\u001b[38;5;241m.\u001b[39mread_excel(excel_file, sheet_name\u001b[38;5;241m=\u001b[39m\u001b[38;5;124m'\u001b[39m\u001b[38;5;124mSheet1\u001b[39m\u001b[38;5;124m'\u001b[39m)\n",
      "File \u001b[0;32m~/opt/anaconda3/envs/hw1_ese101/lib/python3.10/site-packages/pandas/io/excel/_base.py:1629\u001b[0m, in \u001b[0;36mExcelFile.__init__\u001b[0;34m(self, path_or_buffer, engine, storage_options)\u001b[0m\n\u001b[1;32m   1627\u001b[0m     ext \u001b[38;5;241m=\u001b[39m \u001b[38;5;124m\"\u001b[39m\u001b[38;5;124mxls\u001b[39m\u001b[38;5;124m\"\u001b[39m\n\u001b[1;32m   1628\u001b[0m \u001b[38;5;28;01melse\u001b[39;00m:\n\u001b[0;32m-> 1629\u001b[0m     ext \u001b[38;5;241m=\u001b[39m \u001b[43minspect_excel_format\u001b[49m\u001b[43m(\u001b[49m\n\u001b[1;32m   1630\u001b[0m \u001b[43m        \u001b[49m\u001b[43mcontent_or_path\u001b[49m\u001b[38;5;241;43m=\u001b[39;49m\u001b[43mpath_or_buffer\u001b[49m\u001b[43m,\u001b[49m\u001b[43m \u001b[49m\u001b[43mstorage_options\u001b[49m\u001b[38;5;241;43m=\u001b[39;49m\u001b[43mstorage_options\u001b[49m\n\u001b[1;32m   1631\u001b[0m \u001b[43m    \u001b[49m\u001b[43m)\u001b[49m\n\u001b[1;32m   1632\u001b[0m     \u001b[38;5;28;01mif\u001b[39;00m ext \u001b[38;5;129;01mis\u001b[39;00m \u001b[38;5;28;01mNone\u001b[39;00m:\n\u001b[1;32m   1633\u001b[0m         \u001b[38;5;28;01mraise\u001b[39;00m \u001b[38;5;167;01mValueError\u001b[39;00m(\n\u001b[1;32m   1634\u001b[0m             \u001b[38;5;124m\"\u001b[39m\u001b[38;5;124mExcel file format cannot be determined, you must specify \u001b[39m\u001b[38;5;124m\"\u001b[39m\n\u001b[1;32m   1635\u001b[0m             \u001b[38;5;124m\"\u001b[39m\u001b[38;5;124man engine manually.\u001b[39m\u001b[38;5;124m\"\u001b[39m\n\u001b[1;32m   1636\u001b[0m         )\n",
      "File \u001b[0;32m~/opt/anaconda3/envs/hw1_ese101/lib/python3.10/site-packages/pandas/io/excel/_base.py:1502\u001b[0m, in \u001b[0;36minspect_excel_format\u001b[0;34m(content_or_path, storage_options)\u001b[0m\n\u001b[1;32m   1499\u001b[0m \u001b[38;5;28;01mif\u001b[39;00m \u001b[38;5;28misinstance\u001b[39m(content_or_path, \u001b[38;5;28mbytes\u001b[39m):\n\u001b[1;32m   1500\u001b[0m     content_or_path \u001b[38;5;241m=\u001b[39m BytesIO(content_or_path)\n\u001b[0;32m-> 1502\u001b[0m \u001b[38;5;28;01mwith\u001b[39;00m \u001b[43mget_handle\u001b[49m\u001b[43m(\u001b[49m\n\u001b[1;32m   1503\u001b[0m \u001b[43m    \u001b[49m\u001b[43mcontent_or_path\u001b[49m\u001b[43m,\u001b[49m\u001b[43m \u001b[49m\u001b[38;5;124;43m\"\u001b[39;49m\u001b[38;5;124;43mrb\u001b[39;49m\u001b[38;5;124;43m\"\u001b[39;49m\u001b[43m,\u001b[49m\u001b[43m \u001b[49m\u001b[43mstorage_options\u001b[49m\u001b[38;5;241;43m=\u001b[39;49m\u001b[43mstorage_options\u001b[49m\u001b[43m,\u001b[49m\u001b[43m \u001b[49m\u001b[43mis_text\u001b[49m\u001b[38;5;241;43m=\u001b[39;49m\u001b[38;5;28;43;01mFalse\u001b[39;49;00m\n\u001b[1;32m   1504\u001b[0m \u001b[43m\u001b[49m\u001b[43m)\u001b[49m \u001b[38;5;28;01mas\u001b[39;00m handle:\n\u001b[1;32m   1505\u001b[0m     stream \u001b[38;5;241m=\u001b[39m handle\u001b[38;5;241m.\u001b[39mhandle\n\u001b[1;32m   1506\u001b[0m     stream\u001b[38;5;241m.\u001b[39mseek(\u001b[38;5;241m0\u001b[39m)\n",
      "File \u001b[0;32m~/opt/anaconda3/envs/hw1_ese101/lib/python3.10/site-packages/pandas/io/common.py:866\u001b[0m, in \u001b[0;36mget_handle\u001b[0;34m(path_or_buf, mode, encoding, compression, memory_map, is_text, errors, storage_options)\u001b[0m\n\u001b[1;32m    857\u001b[0m         handle \u001b[38;5;241m=\u001b[39m \u001b[38;5;28mopen\u001b[39m(\n\u001b[1;32m    858\u001b[0m             handle,\n\u001b[1;32m    859\u001b[0m             ioargs\u001b[38;5;241m.\u001b[39mmode,\n\u001b[0;32m   (...)\u001b[0m\n\u001b[1;32m    862\u001b[0m             newline\u001b[38;5;241m=\u001b[39m\u001b[38;5;124m\"\u001b[39m\u001b[38;5;124m\"\u001b[39m,\n\u001b[1;32m    863\u001b[0m         )\n\u001b[1;32m    864\u001b[0m     \u001b[38;5;28;01melse\u001b[39;00m:\n\u001b[1;32m    865\u001b[0m         \u001b[38;5;66;03m# Binary mode\u001b[39;00m\n\u001b[0;32m--> 866\u001b[0m         handle \u001b[38;5;241m=\u001b[39m \u001b[38;5;28;43mopen\u001b[39;49m\u001b[43m(\u001b[49m\u001b[43mhandle\u001b[49m\u001b[43m,\u001b[49m\u001b[43m \u001b[49m\u001b[43mioargs\u001b[49m\u001b[38;5;241;43m.\u001b[39;49m\u001b[43mmode\u001b[49m\u001b[43m)\u001b[49m\n\u001b[1;32m    867\u001b[0m     handles\u001b[38;5;241m.\u001b[39mappend(handle)\n\u001b[1;32m    869\u001b[0m \u001b[38;5;66;03m# Convert BytesIO or file objects passed with an encoding\u001b[39;00m\n",
      "\u001b[0;31mFileNotFoundError\u001b[0m: [Errno 2] No such file or directory: '/Users/leoafriyie-buabeng/Desktop/Schneider Cut/age_co2_plot_data.xlsx'"
     ]
    }
   ],
   "source": [
    "# Path to the Excel file\n",
    "excel_file_path = '/Users/leoafriyie-buabeng/Desktop/Schneider Cut/age_co2_plot_data.xlsx'\n",
    "\n",
    "# Create an ExcelFile object\n",
    "excel_file = pd.ExcelFile(excel_file_path)\n",
    "\n",
    "# Read a sheet from the Excel file into a pandas DataFrame\n",
    "data = pd.read_excel(excel_file, sheet_name='Sheet1')\n",
    "\n",
    "\n",
    "# # Filter out rows that contain \"PNAS\" in the 'source' column\n",
    "# data = data[~data['co2_uncertainty_lower'].str.contains(\"PNAS\")]\n",
    "\n",
    "# Set the x-axis and y-axis data\n",
    "x = data['age']\n",
    "y = data['co2']\n",
    "y_err_lower = data['co2'].astype(float) - data['co2_uncertainty_lower'].astype(float)\n",
    "y_err_upper = data['co2_uncertainty_higher'].astype(float) - data['co2'].astype(float)\n",
    "\n",
    "# Plot the data with error bars\n",
    "fig, ax = plt.subplots()\n",
    "ax.errorbar(x, y, yerr=[y_err_lower, y_err_upper], fmt='o')\n",
    "\n",
    "# Set the axis labels\n",
    "ax.set_xlabel('Age')\n",
    "ax.set_ylabel('CO2 Concentration')\n",
    "\n",
    "# Show the plot\n",
    "plt.show()"
   ]
  },
  {
   "cell_type": "code",
   "execution_count": null,
   "id": "ecab9c7d",
   "metadata": {},
   "outputs": [],
   "source": [
    "# Load the data from a CSV file\n",
    "data = pd.read_csv('age_co2_plot_data.csv')\n",
    "\n",
    "# Filter out rows that contain \"PNAS\" in the 'source' column\n",
    "data = data[~data['co2_uncertainty_lower'].str.contains(\"PNAS\")]\n",
    "\n",
    "# Set the x-axis and y-axis data\n",
    "x = data['age']\n",
    "y = data['co2']\n",
    "y_err_lower = data['co2'].astype(float) - data['co2_uncertainty_lower'].astype(float)\n",
    "y_err_upper = data['co2_uncertainty_higher'].astype(float) - data['co2'].astype(float)\n",
    "\n",
    "# Plot the data with error bars\n",
    "fig, ax = plt.subplots()\n",
    "ax.errorbar(x, y, yerr=[y_err_lower, y_err_upper], fmt='o')\n",
    "\n",
    "# Set the axis labels\n",
    "ax.set_xlabel('Age')\n",
    "ax.set_ylabel('CO2 Concentration')\n",
    "\n",
    "# Show the plot\n",
    "plt.show()"
   ]
  },
  {
   "cell_type": "code",
   "execution_count": 13,
   "id": "58bcf27a",
   "metadata": {},
   "outputs": [],
   "source": [
    "z = data['co2_uncertainty_lower']"
   ]
  },
  {
   "cell_type": "code",
   "execution_count": 14,
   "id": "e1ff6854",
   "metadata": {},
   "outputs": [
    {
     "name": "stdout",
     "output_type": "stream",
     "text": [
      "b_ca_tripati_2009.xlsx          806         0.31972\n",
      "                                806         0.31972\n",
      "                                806         0.31972\n",
      "                                806         0.31972\n",
      "                                806         0.31972\n",
      "                                             ...   \n",
      "boron_isotopes_brown_2022.xlsx   ODP 926    3.72125\n",
      "                                 ODP 926    3.72125\n",
      "                                 ODP 926    3.72125\n",
      "                                 ODP 926    3.72125\n",
      "                                 ODP 926    3.72125\n",
      "Name: co2_uncertainty_lower, Length: 1866, dtype: object\n"
     ]
    }
   ],
   "source": [
    "print(z)"
   ]
  },
  {
   "cell_type": "code",
   "execution_count": 15,
   "id": "c594d5e2",
   "metadata": {},
   "outputs": [
    {
     "data": {
      "text/plain": [
       "b_ca_tripati_2009.xlsx          806          16.23\n",
       "                                806          12.84\n",
       "                                806          12.18\n",
       "                                806          11.25\n",
       "                                806           9.94\n",
       "                                             ...  \n",
       "boron_isotopes_brown_2022.xlsx   ODP 926    124.05\n",
       "                                 ODP 926    109.34\n",
       "                                 ODP 926    117.09\n",
       "                                 ODP 926     99.67\n",
       "                                 ODP 926    146.10\n",
       "Name: co2, Length: 1866, dtype: float64"
      ]
     },
     "execution_count": 15,
     "metadata": {},
     "output_type": "execute_result"
    }
   ],
   "source": [
    "data['co2']"
   ]
  },
  {
   "cell_type": "code",
   "execution_count": 24,
   "id": "f9d23e5a",
   "metadata": {
    "scrolled": true
   },
   "outputs": [
    {
     "data": {
      "text/html": [
       "<div>\n",
       "<style scoped>\n",
       "    .dataframe tbody tr th:only-of-type {\n",
       "        vertical-align: middle;\n",
       "    }\n",
       "\n",
       "    .dataframe tbody tr th {\n",
       "        vertical-align: top;\n",
       "    }\n",
       "\n",
       "    .dataframe thead th {\n",
       "        text-align: right;\n",
       "    }\n",
       "</style>\n",
       "<table border=\"1\" class=\"dataframe\">\n",
       "  <thead>\n",
       "    <tr style=\"text-align: right;\">\n",
       "      <th></th>\n",
       "      <th></th>\n",
       "      <th>age</th>\n",
       "      <th>co2</th>\n",
       "      <th>co2_uncertainty_higher</th>\n",
       "      <th>co2_uncertainty_lower</th>\n",
       "    </tr>\n",
       "  </thead>\n",
       "  <tbody>\n",
       "    <tr>\n",
       "      <th rowspan=\"5\" valign=\"top\">b_ca_tripati_2009.xlsx</th>\n",
       "      <th>806</th>\n",
       "      <td>NaN</td>\n",
       "      <td>16.23</td>\n",
       "      <td>Tripati, A.K., C.D. Roberts and R.A. Eagle (20...</td>\n",
       "      <td>0.31972</td>\n",
       "    </tr>\n",
       "    <tr>\n",
       "      <th>806</th>\n",
       "      <td>NaN</td>\n",
       "      <td>12.84</td>\n",
       "      <td>Tripati, A.K., C.D. Roberts and R.A. Eagle (20...</td>\n",
       "      <td>0.31972</td>\n",
       "    </tr>\n",
       "    <tr>\n",
       "      <th>806</th>\n",
       "      <td>NaN</td>\n",
       "      <td>12.18</td>\n",
       "      <td>Tripati, A.K., C.D. Roberts and R.A. Eagle (20...</td>\n",
       "      <td>0.31972</td>\n",
       "    </tr>\n",
       "    <tr>\n",
       "      <th>806</th>\n",
       "      <td>NaN</td>\n",
       "      <td>11.25</td>\n",
       "      <td>Tripati, A.K., C.D. Roberts and R.A. Eagle (20...</td>\n",
       "      <td>0.31972</td>\n",
       "    </tr>\n",
       "    <tr>\n",
       "      <th>806</th>\n",
       "      <td>NaN</td>\n",
       "      <td>9.94</td>\n",
       "      <td>Tripati, A.K., C.D. Roberts and R.A. Eagle (20...</td>\n",
       "      <td>0.31972</td>\n",
       "    </tr>\n",
       "    <tr>\n",
       "      <th>...</th>\n",
       "      <th>...</th>\n",
       "      <td>...</td>\n",
       "      <td>...</td>\n",
       "      <td>...</td>\n",
       "      <td>...</td>\n",
       "    </tr>\n",
       "    <tr>\n",
       "      <th rowspan=\"5\" valign=\"top\">boron_isotopes_brown_2022.xlsx</th>\n",
       "      <th>ODP 926</th>\n",
       "      <td>250.0</td>\n",
       "      <td>124.05</td>\n",
       "      <td>Brown, R.M., Chalk, T.B., Crocker, A.J., Wilso...</td>\n",
       "      <td>3.72125</td>\n",
       "    </tr>\n",
       "    <tr>\n",
       "      <th>ODP 926</th>\n",
       "      <td>250.0</td>\n",
       "      <td>109.34</td>\n",
       "      <td>Brown, R.M., Chalk, T.B., Crocker, A.J., Wilso...</td>\n",
       "      <td>3.72125</td>\n",
       "    </tr>\n",
       "    <tr>\n",
       "      <th>ODP 926</th>\n",
       "      <td>250.0</td>\n",
       "      <td>117.09</td>\n",
       "      <td>Brown, R.M., Chalk, T.B., Crocker, A.J., Wilso...</td>\n",
       "      <td>3.72125</td>\n",
       "    </tr>\n",
       "    <tr>\n",
       "      <th>ODP 926</th>\n",
       "      <td>250.0</td>\n",
       "      <td>99.67</td>\n",
       "      <td>Brown, R.M., Chalk, T.B., Crocker, A.J., Wilso...</td>\n",
       "      <td>3.72125</td>\n",
       "    </tr>\n",
       "    <tr>\n",
       "      <th>ODP 926</th>\n",
       "      <td>250.0</td>\n",
       "      <td>146.10</td>\n",
       "      <td>Brown, R.M., Chalk, T.B., Crocker, A.J., Wilso...</td>\n",
       "      <td>3.72125</td>\n",
       "    </tr>\n",
       "  </tbody>\n",
       "</table>\n",
       "<p>1866 rows × 4 columns</p>\n",
       "</div>"
      ],
      "text/plain": [
       "                                           age     co2  \\\n",
       "b_ca_tripati_2009.xlsx         806         NaN   16.23   \n",
       "                               806         NaN   12.84   \n",
       "                               806         NaN   12.18   \n",
       "                               806         NaN   11.25   \n",
       "                               806         NaN    9.94   \n",
       "...                                        ...     ...   \n",
       "boron_isotopes_brown_2022.xlsx  ODP 926  250.0  124.05   \n",
       "                                ODP 926  250.0  109.34   \n",
       "                                ODP 926  250.0  117.09   \n",
       "                                ODP 926  250.0   99.67   \n",
       "                                ODP 926  250.0  146.10   \n",
       "\n",
       "                                                                    co2_uncertainty_higher  \\\n",
       "b_ca_tripati_2009.xlsx         806       Tripati, A.K., C.D. Roberts and R.A. Eagle (20...   \n",
       "                               806       Tripati, A.K., C.D. Roberts and R.A. Eagle (20...   \n",
       "                               806       Tripati, A.K., C.D. Roberts and R.A. Eagle (20...   \n",
       "                               806       Tripati, A.K., C.D. Roberts and R.A. Eagle (20...   \n",
       "                               806       Tripati, A.K., C.D. Roberts and R.A. Eagle (20...   \n",
       "...                                                                                    ...   \n",
       "boron_isotopes_brown_2022.xlsx  ODP 926  Brown, R.M., Chalk, T.B., Crocker, A.J., Wilso...   \n",
       "                                ODP 926  Brown, R.M., Chalk, T.B., Crocker, A.J., Wilso...   \n",
       "                                ODP 926  Brown, R.M., Chalk, T.B., Crocker, A.J., Wilso...   \n",
       "                                ODP 926  Brown, R.M., Chalk, T.B., Crocker, A.J., Wilso...   \n",
       "                                ODP 926  Brown, R.M., Chalk, T.B., Crocker, A.J., Wilso...   \n",
       "\n",
       "                                        co2_uncertainty_lower  \n",
       "b_ca_tripati_2009.xlsx         806                    0.31972  \n",
       "                               806                    0.31972  \n",
       "                               806                    0.31972  \n",
       "                               806                    0.31972  \n",
       "                               806                    0.31972  \n",
       "...                                                       ...  \n",
       "boron_isotopes_brown_2022.xlsx  ODP 926               3.72125  \n",
       "                                ODP 926               3.72125  \n",
       "                                ODP 926               3.72125  \n",
       "                                ODP 926               3.72125  \n",
       "                                ODP 926               3.72125  \n",
       "\n",
       "[1866 rows x 4 columns]"
      ]
     },
     "execution_count": 24,
     "metadata": {},
     "output_type": "execute_result"
    }
   ],
   "source": [
    "data"
   ]
  },
  {
   "cell_type": "code",
   "execution_count": null,
   "id": "c841440a",
   "metadata": {},
   "outputs": [],
   "source": []
  }
 ],
 "metadata": {
  "kernelspec": {
   "display_name": "Python [conda env:hw1_ese101]",
   "language": "python",
   "name": "conda-env-hw1_ese101-py"
  },
  "language_info": {
   "codemirror_mode": {
    "name": "ipython",
    "version": 3
   },
   "file_extension": ".py",
   "mimetype": "text/x-python",
   "name": "python",
   "nbconvert_exporter": "python",
   "pygments_lexer": "ipython3",
   "version": "3.10.6"
  }
 },
 "nbformat": 4,
 "nbformat_minor": 5
}
